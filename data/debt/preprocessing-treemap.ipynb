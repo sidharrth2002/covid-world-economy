{
 "cells": [
  {
   "cell_type": "code",
   "execution_count": 44,
   "metadata": {},
   "outputs": [],
   "source": [
    "import pandas as pd"
   ]
  },
  {
   "cell_type": "code",
   "execution_count": 45,
   "metadata": {},
   "outputs": [],
   "source": [
    "debt = pd.read_csv('debt.csv')"
   ]
  },
  {
   "cell_type": "code",
   "execution_count": 46,
   "metadata": {},
   "outputs": [],
   "source": [
    "debt.rename(columns={'2019 [YR2019]': '2019', '2020 [YR2020]': '2020', '2021 [YR2021]': '2021', '2022 [YR2022]': '2022', '2023 [YR2023]': '2023'}, inplace=True)"
   ]
  },
  {
   "cell_type": "code",
   "execution_count": 47,
   "metadata": {},
   "outputs": [],
   "source": [
    "debt.dropna(inplace=True)"
   ]
  },
  {
   "cell_type": "code",
   "execution_count": 48,
   "metadata": {},
   "outputs": [],
   "source": [
    "debt['Country Name'] = debt['Country Name'].str.strip()\n",
    "debt['Counterpart-Area Name'] = debt['Counterpart-Area Name'].str.strip()"
   ]
  },
  {
   "cell_type": "code",
   "execution_count": 49,
   "metadata": {},
   "outputs": [],
   "source": [
    "bank_list = ['Asian Dev. Bank', 'International Monetary Fund', 'Islamic Dev. Bank', 'Other Multiple Lenders', 'World', 'World Bank-IDA', 'African Dev. Bank', 'Bondholders', 'International Fund for Agricultural Dev. (IFAD)', 'World Bank-IBRD', 'Asian Infrastructure Investment Bank', 'European Investment Bank', 'Nordic Development Fund', 'Arab Bank for Economic Dev. in Africa (BADEA)', 'West African Development Bank - BOAD', 'Arab African International Bank', 'Arab Fund for Economic & Social Development', 'Dev. Bank of the Central African States (BDEAC)', 'Multiple Lenders', 'Economic Community of West African States (ECOWAS)', 'Central Bank of West African States (BCEAO)', 'European Development Fund (EDF)', 'African Export-Import Bank', 'Caribbean Community (CARICOM)', 'Caribbean Dev. Bank', 'Arab Monetary Fund','Eastern & Southern African Trade & Dev. Bank (TDB)','Nordic Investment Bank', 'International Bank for Economic Cooperation (IBEC)', 'Inter-American Dev. Bank','Central American Bank for Econ. Integration (BCIE)','European Economic Community (EEC)', 'European Bank for Reconstruction and Dev. (EBRD)','Eurasian Development Bank','Islamic Solidarity Fund for Dev. (ISFD)', 'Bolivarian Alliance for the Americas (ALBA)', 'Council of Europe']"
   ]
  },
  {
   "cell_type": "code",
   "execution_count": 50,
   "metadata": {},
   "outputs": [],
   "source": [
    "debt_filtered = debt[~debt['Counterpart-Area Name'].isin(bank_list)]"
   ]
  },
  {
   "cell_type": "code",
   "execution_count": 51,
   "metadata": {},
   "outputs": [],
   "source": [
    "debt = debt_filtered.copy()"
   ]
  },
  {
   "cell_type": "code",
   "execution_count": 52,
   "metadata": {},
   "outputs": [],
   "source": [
    "debt = debt[(debt['2019'] != '..') & (debt['2020'] != '..') & (debt['2021'] != '..') & (debt['2022'] != '..') & (debt['2023'] != '..')]"
   ]
  },
  {
   "cell_type": "code",
   "execution_count": 53,
   "metadata": {},
   "outputs": [],
   "source": [
    "debt = debt.melt(id_vars=['Country Name', 'Country Code', 'Counterpart-Area Name'], value_vars=['2019', '2020', '2021', '2022', '2023'], var_name='Year', value_name='Debt')"
   ]
  },
  {
   "cell_type": "code",
   "execution_count": 54,
   "metadata": {},
   "outputs": [],
   "source": [
    "debt['Debt'] = debt['Debt'].astype(float)"
   ]
  },
  {
   "cell_type": "code",
   "execution_count": 55,
   "metadata": {},
   "outputs": [
    {
     "data": {
      "text/html": [
       "<div>\n",
       "<style scoped>\n",
       "    .dataframe tbody tr th:only-of-type {\n",
       "        vertical-align: middle;\n",
       "    }\n",
       "\n",
       "    .dataframe tbody tr th {\n",
       "        vertical-align: top;\n",
       "    }\n",
       "\n",
       "    .dataframe thead th {\n",
       "        text-align: right;\n",
       "    }\n",
       "</style>\n",
       "<table border=\"1\" class=\"dataframe\">\n",
       "  <thead>\n",
       "    <tr style=\"text-align: right;\">\n",
       "      <th></th>\n",
       "      <th>Debt</th>\n",
       "    </tr>\n",
       "    <tr>\n",
       "      <th>Counterpart-Area Name</th>\n",
       "      <th></th>\n",
       "    </tr>\n",
       "  </thead>\n",
       "  <tbody>\n",
       "    <tr>\n",
       "      <th>China</th>\n",
       "      <td>6.572703e+10</td>\n",
       "    </tr>\n",
       "    <tr>\n",
       "      <th>United Kingdom</th>\n",
       "      <td>1.374577e+10</td>\n",
       "    </tr>\n",
       "    <tr>\n",
       "      <th>France</th>\n",
       "      <td>6.775030e+09</td>\n",
       "    </tr>\n",
       "    <tr>\n",
       "      <th>Japan</th>\n",
       "      <td>5.854431e+09</td>\n",
       "    </tr>\n",
       "    <tr>\n",
       "      <th>India</th>\n",
       "      <td>3.288996e+09</td>\n",
       "    </tr>\n",
       "    <tr>\n",
       "      <th>...</th>\n",
       "      <td>...</td>\n",
       "    </tr>\n",
       "    <tr>\n",
       "      <th>Nigeria</th>\n",
       "      <td>7.150000e+05</td>\n",
       "    </tr>\n",
       "    <tr>\n",
       "      <th>Grenada</th>\n",
       "      <td>4.588891e+05</td>\n",
       "    </tr>\n",
       "    <tr>\n",
       "      <th>St. Lucia</th>\n",
       "      <td>3.034261e+05</td>\n",
       "    </tr>\n",
       "    <tr>\n",
       "      <th>Belize</th>\n",
       "      <td>1.500000e+05</td>\n",
       "    </tr>\n",
       "    <tr>\n",
       "      <th>St. Kitts And Nevis</th>\n",
       "      <td>1.925930e+04</td>\n",
       "    </tr>\n",
       "  </tbody>\n",
       "</table>\n",
       "<p>63 rows × 1 columns</p>\n",
       "</div>"
      ],
      "text/plain": [
       "                               Debt\n",
       "Counterpart-Area Name              \n",
       "China                  6.572703e+10\n",
       "United Kingdom         1.374577e+10\n",
       "France                 6.775030e+09\n",
       "Japan                  5.854431e+09\n",
       "India                  3.288996e+09\n",
       "...                             ...\n",
       "Nigeria                7.150000e+05\n",
       "Grenada                4.588891e+05\n",
       "St. Lucia              3.034261e+05\n",
       "Belize                 1.500000e+05\n",
       "St. Kitts And Nevis    1.925930e+04\n",
       "\n",
       "[63 rows x 1 columns]"
      ]
     },
     "execution_count": 55,
     "metadata": {},
     "output_type": "execute_result"
    }
   ],
   "source": [
    "pd.DataFrame(debt.groupby('Counterpart-Area Name')['Debt'].sum().sort_values(ascending=False))"
   ]
  },
  {
   "cell_type": "code",
   "execution_count": 56,
   "metadata": {},
   "outputs": [],
   "source": [
    "def save_top(df, n=10):\n",
    "    df = df.copy()\n",
    "    # only save top 100 lenders\n",
    "    top_lenders = df.reset_index().groupby('Counterpart-Area Name')['Debt'].sum().sort_values(ascending=False).nlargest(n).index\n",
    "    df = df[(df.index.get_level_values(0).isin(top_lenders)) & (~df.index.get_level_values(0).isin(['World', 'Other Multiple Lenders']))]\n",
    "    print(df)\n",
    "    return df"
   ]
  },
  {
   "cell_type": "code",
   "execution_count": 57,
   "metadata": {},
   "outputs": [
    {
     "name": "stdout",
     "output_type": "stream",
     "text": [
      "                                                              Debt\n",
      "Counterpart-Area Name Country Name                                \n",
      "China                 Angola                          4.056628e+09\n",
      "                      Bangladesh                      1.496123e+08\n",
      "                      Benin                           1.693210e+07\n",
      "                      Burkina Faso                    5.035000e+06\n",
      "                      Burundi                         1.379937e+05\n",
      "...                                                            ...\n",
      "United States         Kenya                           2.651900e+07\n",
      "                      Moldova                         4.938000e+06\n",
      "                      St. Vincent and the Grenadines  3.460000e+05\n",
      "                      Uzbekistan                      2.615000e+06\n",
      "                      Zambia                          4.503000e+06\n",
      "\n",
      "[265 rows x 1 columns]\n",
      "                                                            Debt\n",
      "Counterpart-Area Name Country Name                              \n",
      "Belgium               Angola                           8960364.8\n",
      "                      Bangladesh                        141542.4\n",
      "                      Burkina Faso                           0.0\n",
      "                      Cameroon                         8766495.1\n",
      "                      Congo, Dem. Rep.                10650000.0\n",
      "...                                                          ...\n",
      "United States         Kenya                           26061000.0\n",
      "                      Moldova                          4815000.0\n",
      "                      St. Vincent and the Grenadines    347000.0\n",
      "                      Uzbekistan                       2585543.6\n",
      "                      Zambia                           5180000.0\n",
      "\n",
      "[276 rows x 1 columns]\n",
      "                                            Debt\n",
      "Counterpart-Area Name Country Name              \n",
      "China                 Angola        3.369852e+09\n",
      "                      Bangladesh    1.529325e+08\n",
      "                      Benin         1.915829e+07\n",
      "                      Burkina Faso  4.942000e+06\n",
      "                      Burundi       1.100000e+04\n",
      "...                                          ...\n",
      "United Kingdom        Myanmar       5.468401e+06\n",
      "                      Pakistan      2.340749e+08\n",
      "                      Tanzania      3.998640e+08\n",
      "                      Uganda        2.499930e+07\n",
      "                      Zambia        3.929841e+08\n",
      "\n",
      "[274 rows x 1 columns]\n",
      "                                                              Debt\n",
      "Counterpart-Area Name Country Name                                \n",
      "China                 Angola                          3.371071e+09\n",
      "                      Bangladesh                      2.063706e+08\n",
      "                      Benin                           2.206462e+07\n",
      "                      Burkina Faso                    6.749111e+06\n",
      "                      Burundi                         8.209714e+05\n",
      "...                                                            ...\n",
      "United States         Kenya                           2.231220e+07\n",
      "                      Moldova                         6.629147e+06\n",
      "                      St. Vincent and the Grenadines  4.712500e+05\n",
      "                      Uzbekistan                      2.556898e+06\n",
      "                      Zambia                          9.669800e+06\n",
      "\n",
      "[258 rows x 1 columns]\n"
     ]
    }
   ],
   "source": [
    "grouped_2019 = debt[debt['Year'] == \"2019\"].groupby(['Counterpart-Area Name', 'Country Name'])[['Debt']].sum()\n",
    "grouped_2020 = debt[debt['Year'] == \"2020\"].groupby(['Counterpart-Area Name', 'Country Name'])[['Debt']].sum()\n",
    "grouped_2021 = debt[debt['Year'] == \"2021\"].groupby(['Counterpart-Area Name', 'Country Name'])[['Debt']].sum()\n",
    "grouped_2022 = debt[debt['Year'] == \"2022\"].groupby(['Counterpart-Area Name', 'Country Name'])[['Debt']].sum()\n",
    "\n",
    "grouped_2019 = save_top(grouped_2019)\n",
    "grouped_2020 = save_top(grouped_2020)\n",
    "grouped_2021 = save_top(grouped_2021)\n",
    "grouped_2022 = save_top(grouped_2022)\n",
    "\n",
    "import json\n",
    "\n",
    "def save_json(grouped, year):\n",
    "    levels = len(grouped.index.levels)\n",
    "    dicts = [{} for i in range(levels)]\n",
    "    last_index = None\n",
    "\n",
    "    for index,value in grouped.itertuples():\n",
    "\n",
    "        if not last_index:\n",
    "            last_index = index\n",
    "\n",
    "        for (ii,(i,j)) in enumerate(zip(index, last_index)):\n",
    "            if not i == j:\n",
    "                ii = levels - ii -1\n",
    "                dicts[:ii] =  [{} for _ in dicts[:ii]]\n",
    "                break\n",
    "\n",
    "        for i, key in enumerate(reversed(index)):\n",
    "            dicts[i][key] = value\n",
    "            value = dicts[i]\n",
    "\n",
    "        last_index = index\n",
    "\n",
    "\n",
    "    result = dicts[-1]\n",
    "    # result = json.dumps(dicts[-1])\n",
    "\n",
    "    debt_restructured = {'name': 'debt', 'children': []}\n",
    "\n",
    "    for i in result:\n",
    "        obj = {'name': i, 'children': []}\n",
    "        for j in result[i]:\n",
    "            obj['children'].append({'name': j, 'value': int(result[i][j])})\n",
    "        debt_restructured['children'].append(obj)\n",
    "        \n",
    "    with open(f'debt_{year}.json', 'w') as f:\n",
    "        f.write(json.dumps([debt_restructured], indent=4))\n",
    "\n",
    "save_json(grouped_2019, 2019)\n",
    "save_json(grouped_2020, 2020)\n",
    "save_json(grouped_2021, 2021)\n",
    "save_json(grouped_2022, 2022)"
   ]
  },
  {
   "cell_type": "code",
   "execution_count": 70,
   "metadata": {},
   "outputs": [
    {
     "data": {
      "text/plain": [
       "Index(['Other Multiple Lenders', 'Other Multiple Lenders',\n",
       "       'Other Multiple Lenders', 'Other Multiple Lenders',\n",
       "       'Other Multiple Lenders', 'Other Multiple Lenders',\n",
       "       'Other Multiple Lenders', 'Other Multiple Lenders',\n",
       "       'Other Multiple Lenders', 'Other Multiple Lenders',\n",
       "       'Other Multiple Lenders', 'Other Multiple Lenders',\n",
       "       'Other Multiple Lenders', 'Other Multiple Lenders',\n",
       "       'Other Multiple Lenders', 'Other Multiple Lenders',\n",
       "       'Other Multiple Lenders', 'Other Multiple Lenders',\n",
       "       'Other Multiple Lenders', 'Other Multiple Lenders',\n",
       "       'Other Multiple Lenders', 'Other Multiple Lenders',\n",
       "       'Other Multiple Lenders', 'Other Multiple Lenders',\n",
       "       'Other Multiple Lenders', 'Other Multiple Lenders',\n",
       "       'Other Multiple Lenders', 'Other Multiple Lenders',\n",
       "       'Other Multiple Lenders', 'Other Multiple Lenders',\n",
       "       'Other Multiple Lenders', 'Other Multiple Lenders', 'World', 'World',\n",
       "       'World', 'World', 'World', 'World', 'World', 'World', 'World', 'World',\n",
       "       'World', 'World', 'World', 'World', 'World', 'World', 'World', 'World',\n",
       "       'World', 'World', 'World', 'World', 'World', 'World', 'World', 'World',\n",
       "       'World', 'World', 'World', 'World', 'World', 'World', 'World', 'World',\n",
       "       'World', 'World', 'World', 'World', 'World', 'World', 'World', 'World',\n",
       "       'World', 'World', 'World', 'World', 'World', 'World', 'World', 'World',\n",
       "       'World', 'World', 'World', 'World', 'World', 'World', 'World', 'World',\n",
       "       'World', 'World', 'World', 'World', 'World', 'World', 'World', 'World',\n",
       "       'World', 'World'],\n",
       "      dtype='object', name='Counterpart-Area Name')"
      ]
     },
     "execution_count": 70,
     "metadata": {},
     "output_type": "execute_result"
    }
   ],
   "source": [
    "grouped_2020.index.get_level_values(0)"
   ]
  },
  {
   "cell_type": "code",
   "execution_count": 49,
   "metadata": {},
   "outputs": [
    {
     "data": {
      "text/plain": [
       "Index(['World', 'Other Multiple Lenders', 'China', 'Bondholders',\n",
       "       'United Kingdom', 'Asian Dev. Bank', 'International Monetary Fund',\n",
       "       'World Bank-IDA', 'Islamic Dev. Bank', 'France', 'United Arab Emirates',\n",
       "       'United States', 'Eastern & Southern African Trade & Dev. Bank (TDB)',\n",
       "       'African Dev. Bank', 'Japan', 'Spain', 'Belgium', 'Multiple Lenders',\n",
       "       'Australia', 'Central American Bank for Econ. Integration (BCIE)',\n",
       "       'World Bank-IBRD', 'Germany, Fed.Rep. Of', 'Inter-American Dev. Bank',\n",
       "       'Portugal', 'Russian Federation',\n",
       "       'West African Development Bank - BOAD', 'South Africa', 'Switzerland',\n",
       "       'Korea, Republic Of', 'Netherlands', 'African Export-Import Bank',\n",
       "       'Ireland', 'Israel', 'Egypt', 'India', 'Austria', 'Brazil', 'Italy',\n",
       "       'European Investment Bank', 'Turkey', 'Canada', 'Thailand',\n",
       "       'International Fund for Agricultural Dev. (IFAD)',\n",
       "       'Caribbean Dev. Bank', 'OPEC Fund for International Dev.',\n",
       "       'Arab Fund for Economic & Social Development',\n",
       "       'European Bank for Reconstruction and Dev. (EBRD)', 'Kuwait',\n",
       "       'Saudi Arabia', 'Denmark', 'Hong Kong', 'Sweden', 'Libya',\n",
       "       'Arab Bank for Economic Dev. in Africa (BADEA)',\n",
       "       'Economic Community of West African States (ECOWAS)',\n",
       "       'Dev. Bank of the Central African States (BDEAC)', 'Czech Republic',\n",
       "       'Singapore', 'Nordic Development Fund',\n",
       "       'Asian Infrastructure Investment Bank',\n",
       "       'Venezuela, Republic Bolivarian', 'European Development Fund (EDF)',\n",
       "       'Malaysia', 'Sri Lanka', 'Central Bank of West African States (BCEAO)',\n",
       "       'Mauritius', 'Angola', 'Eurasian Development Bank', 'Norway', 'Belarus',\n",
       "       'Trinidad & Tobago', 'Poland',\n",
       "       'Bolivarian Alliance for the Americas (ALBA)', 'Council of Europe',\n",
       "       'Congo, Rep.', 'Arab African International Bank', 'Finland',\n",
       "       'European Economic Community (EEC)', 'Caribbean Community (CARICOM)',\n",
       "       'Vietnam', 'Hungary', 'Nordic Investment Bank', 'Iraq',\n",
       "       'Iran, Islamic Republic Of', 'Greece', 'Cote D`Ivoire, Republic Of',\n",
       "       'Arab Monetary Fund', 'Bulgaria', 'St. Vincent & The Grenadines',\n",
       "       'Islamic Solidarity Fund for Dev. (ISFD)', 'Qatar', 'Barbados',\n",
       "       'Romania', 'Nigeria', 'Grenada', 'St. Lucia',\n",
       "       'International Bank for Economic Cooperation (IBEC)', 'Belize',\n",
       "       'St. Kitts And Nevis', 'Equatorial Guinea'],\n",
       "      dtype='object', name='Counterpart-Area Name')"
      ]
     },
     "execution_count": 49,
     "metadata": {},
     "output_type": "execute_result"
    }
   ],
   "source": [
    "grouped_2020.reset_index().groupby('Counterpart-Area Name')['Debt'].sum().sort_values(ascending=False).nlargest(100).index"
   ]
  },
  {
   "cell_type": "code",
   "execution_count": 16,
   "metadata": {},
   "outputs": [],
   "source": [
    "grouped_2019\n",
    "# only keep largest lenders\n",
    "# grouped_2019 = grouped_2019.groupby(level=0).apply(lambda x: x.nlargest(5, 'Debt'))\n",
    "grouped_2020 = grouped_2020.groupby(level=0).apply(lambda x: x.nlargest(5, 'Debt'))"
   ]
  },
  {
   "cell_type": "code",
   "execution_count": 33,
   "metadata": {},
   "outputs": [],
   "source": [
    "# grouped_2020.reset_index(level=0, inplace=True)\n",
    "grouped_2020.drop(columns=['Counterpart-Area Name'], inplace=True)"
   ]
  },
  {
   "cell_type": "code",
   "execution_count": 38,
   "metadata": {},
   "outputs": [
    {
     "data": {
      "text/plain": [
       "MultiIndex([(              'African Dev. Bank',          'Nigeria'),\n",
       "            (              'African Dev. Bank',           'Angola'),\n",
       "            (              'African Dev. Bank',          'Somalia'),\n",
       "            (              'African Dev. Bank', 'Congo, Dem. Rep.'),\n",
       "            (              'African Dev. Bank',            'Kenya'),\n",
       "            (     'African Export-Import Bank',      'Congo, Rep.'),\n",
       "            (     'African Export-Import Bank',    'Cote d'Ivoire'),\n",
       "            (     'African Export-Import Bank',          'Senegal'),\n",
       "            (                         'Angola',           'Guinea'),\n",
       "            ('Arab African International Bank',       'Madagascar'),\n",
       "            ...\n",
       "            (                'World Bank-IBRD',         'Pakistan'),\n",
       "            (                'World Bank-IBRD',       'Uzbekistan'),\n",
       "            (                'World Bank-IBRD',           'Angola'),\n",
       "            (                'World Bank-IBRD',           'Kosovo'),\n",
       "            (                'World Bank-IBRD',          'Nigeria'),\n",
       "            (                 'World Bank-IDA',         'Pakistan'),\n",
       "            (                 'World Bank-IDA',       'Bangladesh'),\n",
       "            (                 'World Bank-IDA',          'Nigeria'),\n",
       "            (                 'World Bank-IDA',            'Kenya'),\n",
       "            (                 'World Bank-IDA',         'Tanzania')],\n",
       "           names=['Counterpart-Area Name', 'Country Name'], length=333)"
      ]
     },
     "execution_count": 38,
     "metadata": {},
     "output_type": "execute_result"
    }
   ],
   "source": [
    "grouped_2020.index"
   ]
  },
  {
   "cell_type": "code",
   "execution_count": 12,
   "metadata": {},
   "outputs": [
    {
     "ename": "NameError",
     "evalue": "name 'dicts' is not defined",
     "output_type": "error",
     "traceback": [
      "\u001b[0;31m---------------------------------------------------------------------------\u001b[0m",
      "\u001b[0;31mNameError\u001b[0m                                 Traceback (most recent call last)",
      "\u001b[0;32m/var/folders/sg/4x_5htrx3y7fm7z77wcz8c_40000gn/T/ipykernel_60362/3525130001.py\u001b[0m in \u001b[0;36m<module>\u001b[0;34m\u001b[0m\n\u001b[0;32m----> 1\u001b[0;31m \u001b[0mdicts\u001b[0m\u001b[0;34m[\u001b[0m\u001b[0;34m-\u001b[0m\u001b[0;36m1\u001b[0m\u001b[0;34m]\u001b[0m\u001b[0;34m\u001b[0m\u001b[0;34m\u001b[0m\u001b[0m\n\u001b[0m",
      "\u001b[0;31mNameError\u001b[0m: name 'dicts' is not defined"
     ]
    }
   ],
   "source": [
    "dicts[-1]"
   ]
  },
  {
   "cell_type": "code",
   "execution_count": 17,
   "metadata": {},
   "outputs": [],
   "source": [
    "debt.to_csv('debt_clean.csv', index=False)"
   ]
  },
  {
   "cell_type": "code",
   "execution_count": 13,
   "metadata": {},
   "outputs": [
    {
     "data": {
      "text/html": [
       "<div>\n",
       "<style scoped>\n",
       "    .dataframe tbody tr th:only-of-type {\n",
       "        vertical-align: middle;\n",
       "    }\n",
       "\n",
       "    .dataframe tbody tr th {\n",
       "        vertical-align: top;\n",
       "    }\n",
       "\n",
       "    .dataframe thead th {\n",
       "        text-align: right;\n",
       "    }\n",
       "</style>\n",
       "<table border=\"1\" class=\"dataframe\">\n",
       "  <thead>\n",
       "    <tr style=\"text-align: right;\">\n",
       "      <th></th>\n",
       "      <th></th>\n",
       "      <th>Debt</th>\n",
       "    </tr>\n",
       "    <tr>\n",
       "      <th>Counterpart-Area Name</th>\n",
       "      <th>Country Name</th>\n",
       "      <th></th>\n",
       "    </tr>\n",
       "  </thead>\n",
       "  <tbody>\n",
       "  </tbody>\n",
       "</table>\n",
       "</div>"
      ],
      "text/plain": [
       "Empty DataFrame\n",
       "Columns: [Debt]\n",
       "Index: []"
      ]
     },
     "execution_count": 13,
     "metadata": {},
     "output_type": "execute_result"
    }
   ],
   "source": [
    "grouped_2019"
   ]
  },
  {
   "cell_type": "code",
   "execution_count": null,
   "metadata": {},
   "outputs": [],
   "source": []
  }
 ],
 "metadata": {
  "interpreter": {
   "hash": "e6cba64f92086cea4f7c8f7f244f42e1e8cb9624a24fb73ff9c983ad8555d3f6"
  },
  "kernelspec": {
   "display_name": "Python 3.8.2 ('multitask-bert')",
   "language": "python",
   "name": "python3"
  },
  "language_info": {
   "codemirror_mode": {
    "name": "ipython",
    "version": 3
   },
   "file_extension": ".py",
   "mimetype": "text/x-python",
   "name": "python",
   "nbconvert_exporter": "python",
   "pygments_lexer": "ipython3",
   "version": "3.8.2"
  },
  "orig_nbformat": 4
 },
 "nbformat": 4,
 "nbformat_minor": 2
}
