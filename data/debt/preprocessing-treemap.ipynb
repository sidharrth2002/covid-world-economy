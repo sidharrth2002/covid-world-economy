{
 "cells": [
  {
   "cell_type": "code",
   "execution_count": 1,
   "metadata": {},
   "outputs": [],
   "source": [
    "import pandas as pd"
   ]
  },
  {
   "cell_type": "code",
   "execution_count": 2,
   "metadata": {},
   "outputs": [],
   "source": [
    "debt = pd.read_csv('debt.csv')"
   ]
  },
  {
   "cell_type": "code",
   "execution_count": 3,
   "metadata": {},
   "outputs": [],
   "source": [
    "debt.rename(columns={'2019 [YR2019]': '2019', '2020 [YR2020]': '2020', '2021 [YR2021]': '2021', '2022 [YR2022]': '2022', '2023 [YR2023]': '2023'}, inplace=True)"
   ]
  },
  {
   "cell_type": "code",
   "execution_count": 4,
   "metadata": {},
   "outputs": [],
   "source": [
    "debt.dropna(inplace=True)"
   ]
  },
  {
   "cell_type": "code",
   "execution_count": 5,
   "metadata": {},
   "outputs": [],
   "source": [
    "debt['Country Name'] = debt['Country Name'].str.strip()\n",
    "debt['Counterpart-Area Name'] = debt['Counterpart-Area Name'].str.strip()"
   ]
  },
  {
   "cell_type": "code",
   "execution_count": 6,
   "metadata": {},
   "outputs": [],
   "source": [
    "debt = debt[(debt['2019'] != '..') & (debt['2020'] != '..') & (debt['2021'] != '..') & (debt['2022'] != '..') & (debt['2023'] != '..')]"
   ]
  },
  {
   "cell_type": "code",
   "execution_count": 7,
   "metadata": {},
   "outputs": [],
   "source": [
    "debt = debt.melt(id_vars=['Country Name', 'Country Code', 'Counterpart-Area Name'], value_vars=['2019', '2020', '2021', '2022', '2023'], var_name='Year', value_name='Debt')"
   ]
  },
  {
   "cell_type": "code",
   "execution_count": 8,
   "metadata": {},
   "outputs": [],
   "source": [
    "debt['Debt'] = debt['Debt'].astype(float)"
   ]
  },
  {
   "cell_type": "code",
   "execution_count": 10,
   "metadata": {},
   "outputs": [
    {
     "data": {
      "text/html": [
       "<div>\n",
       "<style scoped>\n",
       "    .dataframe tbody tr th:only-of-type {\n",
       "        vertical-align: middle;\n",
       "    }\n",
       "\n",
       "    .dataframe tbody tr th {\n",
       "        vertical-align: top;\n",
       "    }\n",
       "\n",
       "    .dataframe thead th {\n",
       "        text-align: right;\n",
       "    }\n",
       "</style>\n",
       "<table border=\"1\" class=\"dataframe\">\n",
       "  <thead>\n",
       "    <tr style=\"text-align: right;\">\n",
       "      <th></th>\n",
       "      <th>Debt</th>\n",
       "    </tr>\n",
       "    <tr>\n",
       "      <th>Counterpart-Area Name</th>\n",
       "      <th></th>\n",
       "    </tr>\n",
       "  </thead>\n",
       "  <tbody>\n",
       "    <tr>\n",
       "      <th>World</th>\n",
       "      <td>4.316449e+11</td>\n",
       "    </tr>\n",
       "    <tr>\n",
       "      <th>Other Multiple Lenders</th>\n",
       "      <td>1.671310e+11</td>\n",
       "    </tr>\n",
       "    <tr>\n",
       "      <th>China</th>\n",
       "      <td>6.572703e+10</td>\n",
       "    </tr>\n",
       "    <tr>\n",
       "      <th>Bondholders</th>\n",
       "      <td>4.959060e+10</td>\n",
       "    </tr>\n",
       "    <tr>\n",
       "      <th>World Bank-IDA</th>\n",
       "      <td>2.081378e+10</td>\n",
       "    </tr>\n",
       "    <tr>\n",
       "      <th>...</th>\n",
       "      <td>...</td>\n",
       "    </tr>\n",
       "    <tr>\n",
       "      <th>Grenada</th>\n",
       "      <td>4.588891e+05</td>\n",
       "    </tr>\n",
       "    <tr>\n",
       "      <th>St. Lucia</th>\n",
       "      <td>3.034261e+05</td>\n",
       "    </tr>\n",
       "    <tr>\n",
       "      <th>International Bank for Economic Cooperation (IBEC)</th>\n",
       "      <td>1.855000e+05</td>\n",
       "    </tr>\n",
       "    <tr>\n",
       "      <th>Belize</th>\n",
       "      <td>1.500000e+05</td>\n",
       "    </tr>\n",
       "    <tr>\n",
       "      <th>St. Kitts And Nevis</th>\n",
       "      <td>1.925930e+04</td>\n",
       "    </tr>\n",
       "  </tbody>\n",
       "</table>\n",
       "<p>100 rows × 1 columns</p>\n",
       "</div>"
      ],
      "text/plain": [
       "                                                            Debt\n",
       "Counterpart-Area Name                                           \n",
       "World                                               4.316449e+11\n",
       "Other Multiple Lenders                              1.671310e+11\n",
       "China                                               6.572703e+10\n",
       "Bondholders                                         4.959060e+10\n",
       "World Bank-IDA                                      2.081378e+10\n",
       "...                                                          ...\n",
       "Grenada                                             4.588891e+05\n",
       "St. Lucia                                           3.034261e+05\n",
       "International Bank for Economic Cooperation (IBEC)  1.855000e+05\n",
       "Belize                                              1.500000e+05\n",
       "St. Kitts And Nevis                                 1.925930e+04\n",
       "\n",
       "[100 rows x 1 columns]"
      ]
     },
     "execution_count": 10,
     "metadata": {},
     "output_type": "execute_result"
    }
   ],
   "source": [
    "pd.DataFrame(debt.groupby('Counterpart-Area Name')['Debt'].sum().sort_values(ascending=False))"
   ]
  },
  {
   "cell_type": "code",
   "execution_count": 91,
   "metadata": {},
   "outputs": [],
   "source": [
    "def save_top(df, n=10):\n",
    "    df = df.copy()\n",
    "    # only save top 100 lenders\n",
    "    top_lenders = df.reset_index().groupby('Counterpart-Area Name')['Debt'].sum().sort_values(ascending=False).nlargest(n).index\n",
    "    df = df[(df.index.get_level_values(0).isin(top_lenders)) & (~df.index.get_level_values(0).isin(['World', 'Other Multiple Lenders']))]\n",
    "    print(df)\n",
    "    return df"
   ]
  },
  {
   "cell_type": "code",
   "execution_count": 92,
   "metadata": {},
   "outputs": [
    {
     "name": "stdout",
     "output_type": "stream",
     "text": [
      "                                           Debt\n",
      "Counterpart-Area Name Country Name             \n",
      "Asian Dev. Bank       Afghanistan    14275000.0\n",
      "                      Bangladesh    656569000.0\n",
      "                      Bhutan         14238000.0\n",
      "                      Cambodia       62968000.0\n",
      "                      Fiji           13357000.0\n",
      "...                                         ...\n",
      "World Bank-IDA        Uganda         58350000.0\n",
      "                      Uzbekistan     39709000.0\n",
      "                      Vanuatu         1032000.0\n",
      "                      Yemen, Rep.    83913000.0\n",
      "                      Zambia         18857000.0\n",
      "\n",
      "[294 rows x 1 columns]\n",
      "                                           Debt\n",
      "Counterpart-Area Name Country Name             \n",
      "Asian Dev. Bank       Afghanistan    14273000.0\n",
      "                      Bangladesh    679578000.0\n",
      "                      Bhutan         15528000.0\n",
      "                      Cambodia       69745000.0\n",
      "                      Fiji           13774000.0\n",
      "...                                         ...\n",
      "World Bank-IDA        Uganda         72536000.0\n",
      "                      Uzbekistan     55574000.0\n",
      "                      Vanuatu         1159000.0\n",
      "                      Yemen, Rep.    86051000.0\n",
      "                      Zambia         23511000.0\n",
      "\n",
      "[288 rows x 1 columns]\n",
      "                                           Debt\n",
      "Counterpart-Area Name Country Name             \n",
      "Asian Dev. Bank       Afghanistan    34522930.3\n",
      "                      Bangladesh    773129726.0\n",
      "                      Bhutan         19370240.7\n",
      "                      Cambodia       88090134.0\n",
      "                      Fiji           15294917.6\n",
      "...                                         ...\n",
      "World Bank-IDA        Uganda        113130748.7\n",
      "                      Uzbekistan     78564501.4\n",
      "                      Vanuatu          800233.6\n",
      "                      Yemen, Rep.    88952286.2\n",
      "                      Zambia         45992430.7\n",
      "\n",
      "[290 rows x 1 columns]\n",
      "                                           Debt\n",
      "Counterpart-Area Name Country Name             \n",
      "Asian Dev. Bank       Afghanistan    34120750.3\n",
      "                      Bangladesh    805451752.0\n",
      "                      Bhutan         21023101.6\n",
      "                      Cambodia       89391681.0\n",
      "                      Fiji           17501584.2\n",
      "...                                         ...\n",
      "World Bank-IDA        Uganda        130272712.3\n",
      "                      Uzbekistan     86988190.8\n",
      "                      Vanuatu          803114.0\n",
      "                      Yemen, Rep.    90696646.8\n",
      "                      Zambia         59444993.7\n",
      "\n",
      "[294 rows x 1 columns]\n"
     ]
    }
   ],
   "source": [
    "grouped_2019 = debt[debt['Year'] == \"2019\"].groupby(['Counterpart-Area Name', 'Country Name'])[['Debt']].sum()\n",
    "grouped_2020 = debt[debt['Year'] == \"2020\"].groupby(['Counterpart-Area Name', 'Country Name'])[['Debt']].sum()\n",
    "grouped_2021 = debt[debt['Year'] == \"2021\"].groupby(['Counterpart-Area Name', 'Country Name'])[['Debt']].sum()\n",
    "grouped_2022 = debt[debt['Year'] == \"2022\"].groupby(['Counterpart-Area Name', 'Country Name'])[['Debt']].sum()\n",
    "\n",
    "grouped_2019 = save_top(grouped_2019)\n",
    "grouped_2020 = save_top(grouped_2020)\n",
    "grouped_2021 = save_top(grouped_2021)\n",
    "grouped_2022 = save_top(grouped_2022)\n",
    "\n",
    "import json\n",
    "\n",
    "def save_json(grouped, year):\n",
    "    levels = len(grouped.index.levels)\n",
    "    dicts = [{} for i in range(levels)]\n",
    "    last_index = None\n",
    "\n",
    "    for index,value in grouped.itertuples():\n",
    "\n",
    "        if not last_index:\n",
    "            last_index = index\n",
    "\n",
    "        for (ii,(i,j)) in enumerate(zip(index, last_index)):\n",
    "            if not i == j:\n",
    "                ii = levels - ii -1\n",
    "                dicts[:ii] =  [{} for _ in dicts[:ii]]\n",
    "                break\n",
    "\n",
    "        for i, key in enumerate(reversed(index)):\n",
    "            dicts[i][key] = value\n",
    "            value = dicts[i]\n",
    "\n",
    "        last_index = index\n",
    "\n",
    "\n",
    "    result = dicts[-1]\n",
    "    # result = json.dumps(dicts[-1])\n",
    "\n",
    "    debt_restructured = {'name': 'debt', 'children': []}\n",
    "\n",
    "    for i in result:\n",
    "        obj = {'name': i, 'children': []}\n",
    "        for j in result[i]:\n",
    "            obj['children'].append({'name': j, 'value': result[i][j]})\n",
    "        debt_restructured['children'].append(obj)\n",
    "        \n",
    "    with open(f'debt_{year}.json', 'w') as f:\n",
    "        f.write(json.dumps(debt_restructured, indent=4))\n",
    "    \n",
    "    with open(f'debt_{year}.json', 'r+') as file:\n",
    "        file.seek(0)\n",
    "        file.write('var data = ')\n",
    "        file.write(json.dumps(debt_restructured, indent=4))\n",
    "        file.write(';')\n",
    "\n",
    "save_json(grouped_2019, 2019)\n",
    "save_json(grouped_2020, 2020)\n",
    "save_json(grouped_2021, 2021)\n",
    "save_json(grouped_2022, 2022)"
   ]
  },
  {
   "cell_type": "code",
   "execution_count": 70,
   "metadata": {},
   "outputs": [
    {
     "data": {
      "text/plain": [
       "Index(['Other Multiple Lenders', 'Other Multiple Lenders',\n",
       "       'Other Multiple Lenders', 'Other Multiple Lenders',\n",
       "       'Other Multiple Lenders', 'Other Multiple Lenders',\n",
       "       'Other Multiple Lenders', 'Other Multiple Lenders',\n",
       "       'Other Multiple Lenders', 'Other Multiple Lenders',\n",
       "       'Other Multiple Lenders', 'Other Multiple Lenders',\n",
       "       'Other Multiple Lenders', 'Other Multiple Lenders',\n",
       "       'Other Multiple Lenders', 'Other Multiple Lenders',\n",
       "       'Other Multiple Lenders', 'Other Multiple Lenders',\n",
       "       'Other Multiple Lenders', 'Other Multiple Lenders',\n",
       "       'Other Multiple Lenders', 'Other Multiple Lenders',\n",
       "       'Other Multiple Lenders', 'Other Multiple Lenders',\n",
       "       'Other Multiple Lenders', 'Other Multiple Lenders',\n",
       "       'Other Multiple Lenders', 'Other Multiple Lenders',\n",
       "       'Other Multiple Lenders', 'Other Multiple Lenders',\n",
       "       'Other Multiple Lenders', 'Other Multiple Lenders', 'World', 'World',\n",
       "       'World', 'World', 'World', 'World', 'World', 'World', 'World', 'World',\n",
       "       'World', 'World', 'World', 'World', 'World', 'World', 'World', 'World',\n",
       "       'World', 'World', 'World', 'World', 'World', 'World', 'World', 'World',\n",
       "       'World', 'World', 'World', 'World', 'World', 'World', 'World', 'World',\n",
       "       'World', 'World', 'World', 'World', 'World', 'World', 'World', 'World',\n",
       "       'World', 'World', 'World', 'World', 'World', 'World', 'World', 'World',\n",
       "       'World', 'World', 'World', 'World', 'World', 'World', 'World', 'World',\n",
       "       'World', 'World', 'World', 'World', 'World', 'World', 'World', 'World',\n",
       "       'World', 'World'],\n",
       "      dtype='object', name='Counterpart-Area Name')"
      ]
     },
     "execution_count": 70,
     "metadata": {},
     "output_type": "execute_result"
    }
   ],
   "source": [
    "grouped_2020.index.get_level_values(0)"
   ]
  },
  {
   "cell_type": "code",
   "execution_count": 49,
   "metadata": {},
   "outputs": [
    {
     "data": {
      "text/plain": [
       "Index(['World', 'Other Multiple Lenders', 'China', 'Bondholders',\n",
       "       'United Kingdom', 'Asian Dev. Bank', 'International Monetary Fund',\n",
       "       'World Bank-IDA', 'Islamic Dev. Bank', 'France', 'United Arab Emirates',\n",
       "       'United States', 'Eastern & Southern African Trade & Dev. Bank (TDB)',\n",
       "       'African Dev. Bank', 'Japan', 'Spain', 'Belgium', 'Multiple Lenders',\n",
       "       'Australia', 'Central American Bank for Econ. Integration (BCIE)',\n",
       "       'World Bank-IBRD', 'Germany, Fed.Rep. Of', 'Inter-American Dev. Bank',\n",
       "       'Portugal', 'Russian Federation',\n",
       "       'West African Development Bank - BOAD', 'South Africa', 'Switzerland',\n",
       "       'Korea, Republic Of', 'Netherlands', 'African Export-Import Bank',\n",
       "       'Ireland', 'Israel', 'Egypt', 'India', 'Austria', 'Brazil', 'Italy',\n",
       "       'European Investment Bank', 'Turkey', 'Canada', 'Thailand',\n",
       "       'International Fund for Agricultural Dev. (IFAD)',\n",
       "       'Caribbean Dev. Bank', 'OPEC Fund for International Dev.',\n",
       "       'Arab Fund for Economic & Social Development',\n",
       "       'European Bank for Reconstruction and Dev. (EBRD)', 'Kuwait',\n",
       "       'Saudi Arabia', 'Denmark', 'Hong Kong', 'Sweden', 'Libya',\n",
       "       'Arab Bank for Economic Dev. in Africa (BADEA)',\n",
       "       'Economic Community of West African States (ECOWAS)',\n",
       "       'Dev. Bank of the Central African States (BDEAC)', 'Czech Republic',\n",
       "       'Singapore', 'Nordic Development Fund',\n",
       "       'Asian Infrastructure Investment Bank',\n",
       "       'Venezuela, Republic Bolivarian', 'European Development Fund (EDF)',\n",
       "       'Malaysia', 'Sri Lanka', 'Central Bank of West African States (BCEAO)',\n",
       "       'Mauritius', 'Angola', 'Eurasian Development Bank', 'Norway', 'Belarus',\n",
       "       'Trinidad & Tobago', 'Poland',\n",
       "       'Bolivarian Alliance for the Americas (ALBA)', 'Council of Europe',\n",
       "       'Congo, Rep.', 'Arab African International Bank', 'Finland',\n",
       "       'European Economic Community (EEC)', 'Caribbean Community (CARICOM)',\n",
       "       'Vietnam', 'Hungary', 'Nordic Investment Bank', 'Iraq',\n",
       "       'Iran, Islamic Republic Of', 'Greece', 'Cote D`Ivoire, Republic Of',\n",
       "       'Arab Monetary Fund', 'Bulgaria', 'St. Vincent & The Grenadines',\n",
       "       'Islamic Solidarity Fund for Dev. (ISFD)', 'Qatar', 'Barbados',\n",
       "       'Romania', 'Nigeria', 'Grenada', 'St. Lucia',\n",
       "       'International Bank for Economic Cooperation (IBEC)', 'Belize',\n",
       "       'St. Kitts And Nevis', 'Equatorial Guinea'],\n",
       "      dtype='object', name='Counterpart-Area Name')"
      ]
     },
     "execution_count": 49,
     "metadata": {},
     "output_type": "execute_result"
    }
   ],
   "source": [
    "grouped_2020.reset_index().groupby('Counterpart-Area Name')['Debt'].sum().sort_values(ascending=False).nlargest(100).index"
   ]
  },
  {
   "cell_type": "code",
   "execution_count": 16,
   "metadata": {},
   "outputs": [],
   "source": [
    "grouped_2019\n",
    "# only keep largest lenders\n",
    "# grouped_2019 = grouped_2019.groupby(level=0).apply(lambda x: x.nlargest(5, 'Debt'))\n",
    "grouped_2020 = grouped_2020.groupby(level=0).apply(lambda x: x.nlargest(5, 'Debt'))"
   ]
  },
  {
   "cell_type": "code",
   "execution_count": 33,
   "metadata": {},
   "outputs": [],
   "source": [
    "# grouped_2020.reset_index(level=0, inplace=True)\n",
    "grouped_2020.drop(columns=['Counterpart-Area Name'], inplace=True)"
   ]
  },
  {
   "cell_type": "code",
   "execution_count": 38,
   "metadata": {},
   "outputs": [
    {
     "data": {
      "text/plain": [
       "MultiIndex([(              'African Dev. Bank',          'Nigeria'),\n",
       "            (              'African Dev. Bank',           'Angola'),\n",
       "            (              'African Dev. Bank',          'Somalia'),\n",
       "            (              'African Dev. Bank', 'Congo, Dem. Rep.'),\n",
       "            (              'African Dev. Bank',            'Kenya'),\n",
       "            (     'African Export-Import Bank',      'Congo, Rep.'),\n",
       "            (     'African Export-Import Bank',    'Cote d'Ivoire'),\n",
       "            (     'African Export-Import Bank',          'Senegal'),\n",
       "            (                         'Angola',           'Guinea'),\n",
       "            ('Arab African International Bank',       'Madagascar'),\n",
       "            ...\n",
       "            (                'World Bank-IBRD',         'Pakistan'),\n",
       "            (                'World Bank-IBRD',       'Uzbekistan'),\n",
       "            (                'World Bank-IBRD',           'Angola'),\n",
       "            (                'World Bank-IBRD',           'Kosovo'),\n",
       "            (                'World Bank-IBRD',          'Nigeria'),\n",
       "            (                 'World Bank-IDA',         'Pakistan'),\n",
       "            (                 'World Bank-IDA',       'Bangladesh'),\n",
       "            (                 'World Bank-IDA',          'Nigeria'),\n",
       "            (                 'World Bank-IDA',            'Kenya'),\n",
       "            (                 'World Bank-IDA',         'Tanzania')],\n",
       "           names=['Counterpart-Area Name', 'Country Name'], length=333)"
      ]
     },
     "execution_count": 38,
     "metadata": {},
     "output_type": "execute_result"
    }
   ],
   "source": [
    "grouped_2020.index"
   ]
  },
  {
   "cell_type": "code",
   "execution_count": 12,
   "metadata": {},
   "outputs": [
    {
     "ename": "NameError",
     "evalue": "name 'dicts' is not defined",
     "output_type": "error",
     "traceback": [
      "\u001b[0;31m---------------------------------------------------------------------------\u001b[0m",
      "\u001b[0;31mNameError\u001b[0m                                 Traceback (most recent call last)",
      "\u001b[0;32m/var/folders/sg/4x_5htrx3y7fm7z77wcz8c_40000gn/T/ipykernel_60362/3525130001.py\u001b[0m in \u001b[0;36m<module>\u001b[0;34m\u001b[0m\n\u001b[0;32m----> 1\u001b[0;31m \u001b[0mdicts\u001b[0m\u001b[0;34m[\u001b[0m\u001b[0;34m-\u001b[0m\u001b[0;36m1\u001b[0m\u001b[0;34m]\u001b[0m\u001b[0;34m\u001b[0m\u001b[0;34m\u001b[0m\u001b[0m\n\u001b[0m",
      "\u001b[0;31mNameError\u001b[0m: name 'dicts' is not defined"
     ]
    }
   ],
   "source": [
    "dicts[-1]"
   ]
  },
  {
   "cell_type": "code",
   "execution_count": 17,
   "metadata": {},
   "outputs": [],
   "source": [
    "debt.to_csv('debt_clean.csv', index=False)"
   ]
  },
  {
   "cell_type": "code",
   "execution_count": 13,
   "metadata": {},
   "outputs": [
    {
     "data": {
      "text/html": [
       "<div>\n",
       "<style scoped>\n",
       "    .dataframe tbody tr th:only-of-type {\n",
       "        vertical-align: middle;\n",
       "    }\n",
       "\n",
       "    .dataframe tbody tr th {\n",
       "        vertical-align: top;\n",
       "    }\n",
       "\n",
       "    .dataframe thead th {\n",
       "        text-align: right;\n",
       "    }\n",
       "</style>\n",
       "<table border=\"1\" class=\"dataframe\">\n",
       "  <thead>\n",
       "    <tr style=\"text-align: right;\">\n",
       "      <th></th>\n",
       "      <th></th>\n",
       "      <th>Debt</th>\n",
       "    </tr>\n",
       "    <tr>\n",
       "      <th>Counterpart-Area Name</th>\n",
       "      <th>Country Name</th>\n",
       "      <th></th>\n",
       "    </tr>\n",
       "  </thead>\n",
       "  <tbody>\n",
       "  </tbody>\n",
       "</table>\n",
       "</div>"
      ],
      "text/plain": [
       "Empty DataFrame\n",
       "Columns: [Debt]\n",
       "Index: []"
      ]
     },
     "execution_count": 13,
     "metadata": {},
     "output_type": "execute_result"
    }
   ],
   "source": [
    "grouped_2019"
   ]
  },
  {
   "cell_type": "code",
   "execution_count": null,
   "metadata": {},
   "outputs": [],
   "source": []
  }
 ],
 "metadata": {
  "interpreter": {
   "hash": "e6cba64f92086cea4f7c8f7f244f42e1e8cb9624a24fb73ff9c983ad8555d3f6"
  },
  "kernelspec": {
   "display_name": "Python 3.8.2 ('multitask-bert')",
   "language": "python",
   "name": "python3"
  },
  "language_info": {
   "codemirror_mode": {
    "name": "ipython",
    "version": 3
   },
   "file_extension": ".py",
   "mimetype": "text/x-python",
   "name": "python",
   "nbconvert_exporter": "python",
   "pygments_lexer": "ipython3",
   "version": "3.8.2"
  },
  "orig_nbformat": 4
 },
 "nbformat": 4,
 "nbformat_minor": 2
}
