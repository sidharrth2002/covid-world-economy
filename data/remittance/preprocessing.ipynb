{
 "cells": [
  {
   "cell_type": "code",
   "execution_count": 1,
   "metadata": {},
   "outputs": [],
   "source": [
    "import pandas as pd"
   ]
  },
  {
   "cell_type": "code",
   "execution_count": 4,
   "metadata": {},
   "outputs": [],
   "source": [
    "remittance = pd.read_csv('remittance-inflow.csv', index_col=0)"
   ]
  },
  {
   "cell_type": "code",
   "execution_count": 7,
   "metadata": {},
   "outputs": [
    {
     "data": {
      "text/html": [
       "<div>\n",
       "<style scoped>\n",
       "    .dataframe tbody tr th:only-of-type {\n",
       "        vertical-align: middle;\n",
       "    }\n",
       "\n",
       "    .dataframe tbody tr th {\n",
       "        vertical-align: top;\n",
       "    }\n",
       "\n",
       "    .dataframe thead th {\n",
       "        text-align: right;\n",
       "    }\n",
       "</style>\n",
       "<table border=\"1\" class=\"dataframe\">\n",
       "  <thead>\n",
       "    <tr style=\"text-align: right;\">\n",
       "      <th></th>\n",
       "      <th>Region</th>\n",
       "      <th>2009</th>\n",
       "      <th>2016</th>\n",
       "      <th>2017</th>\n",
       "      <th>2018</th>\n",
       "      <th>2019e</th>\n",
       "      <th>2020f</th>\n",
       "      <th>2021f</th>\n",
       "    </tr>\n",
       "  </thead>\n",
       "  <tbody>\n",
       "    <tr>\n",
       "      <th>0</th>\n",
       "      <td>Low and Middle Income</td>\n",
       "      <td>307</td>\n",
       "      <td>446</td>\n",
       "      <td>487</td>\n",
       "      <td>531</td>\n",
       "      <td>554</td>\n",
       "      <td>445</td>\n",
       "      <td>470</td>\n",
       "    </tr>\n",
       "    <tr>\n",
       "      <th>1</th>\n",
       "      <td>East Asia and Pacific</td>\n",
       "      <td>80</td>\n",
       "      <td>128</td>\n",
       "      <td>134</td>\n",
       "      <td>143</td>\n",
       "      <td>147</td>\n",
       "      <td>128</td>\n",
       "      <td>138</td>\n",
       "    </tr>\n",
       "    <tr>\n",
       "      <th>2</th>\n",
       "      <td>Europe and Central Asia</td>\n",
       "      <td>36</td>\n",
       "      <td>46</td>\n",
       "      <td>55</td>\n",
       "      <td>61</td>\n",
       "      <td>65</td>\n",
       "      <td>47</td>\n",
       "      <td>49</td>\n",
       "    </tr>\n",
       "    <tr>\n",
       "      <th>3</th>\n",
       "      <td>Latin America and the Caribbean</td>\n",
       "      <td>55</td>\n",
       "      <td>73</td>\n",
       "      <td>81</td>\n",
       "      <td>89</td>\n",
       "      <td>96</td>\n",
       "      <td>77</td>\n",
       "      <td>82</td>\n",
       "    </tr>\n",
       "    <tr>\n",
       "      <th>4</th>\n",
       "      <td>Middle-East and North Africa</td>\n",
       "      <td>33</td>\n",
       "      <td>51</td>\n",
       "      <td>57</td>\n",
       "      <td>58</td>\n",
       "      <td>59</td>\n",
       "      <td>47</td>\n",
       "      <td>48</td>\n",
       "    </tr>\n",
       "    <tr>\n",
       "      <th>5</th>\n",
       "      <td>South Asia</td>\n",
       "      <td>75</td>\n",
       "      <td>111</td>\n",
       "      <td>118</td>\n",
       "      <td>132</td>\n",
       "      <td>140</td>\n",
       "      <td>109</td>\n",
       "      <td>115</td>\n",
       "    </tr>\n",
       "    <tr>\n",
       "      <th>6</th>\n",
       "      <td>Sub-Saharan Africa</td>\n",
       "      <td>29</td>\n",
       "      <td>39</td>\n",
       "      <td>42</td>\n",
       "      <td>48</td>\n",
       "      <td>48</td>\n",
       "      <td>37</td>\n",
       "      <td>38</td>\n",
       "    </tr>\n",
       "  </tbody>\n",
       "</table>\n",
       "</div>"
      ],
      "text/plain": [
       "                            Region  2009  2016  2017  2018  2019e  2020f  \\\n",
       "0            Low and Middle Income   307   446   487   531    554    445   \n",
       "1            East Asia and Pacific    80   128   134   143    147    128   \n",
       "2          Europe and Central Asia    36    46    55    61     65     47   \n",
       "3  Latin America and the Caribbean    55    73    81    89     96     77   \n",
       "4     Middle-East and North Africa    33    51    57    58     59     47   \n",
       "5                       South Asia    75   111   118   132    140    109   \n",
       "6               Sub-Saharan Africa    29    39    42    48     48     37   \n",
       "\n",
       "   2021f  \n",
       "0    470  \n",
       "1    138  \n",
       "2     49  \n",
       "3     82  \n",
       "4     48  \n",
       "5    115  \n",
       "6     38  "
      ]
     },
     "execution_count": 7,
     "metadata": {},
     "output_type": "execute_result"
    }
   ],
   "source": [
    "remittance"
   ]
  },
  {
   "cell_type": "code",
   "execution_count": 12,
   "metadata": {},
   "outputs": [],
   "source": [
    "remittance_melt = remittance.melt(id_vars=['Region'], value_vars=[col for col in remittance.columns if col != 'Region'], var_name='Year')"
   ]
  },
  {
   "cell_type": "code",
   "execution_count": 14,
   "metadata": {},
   "outputs": [],
   "source": [
    "remittance_melt.to_csv('remittance-inflow.csv')"
   ]
  }
 ],
 "metadata": {
  "interpreter": {
   "hash": "e6cba64f92086cea4f7c8f7f244f42e1e8cb9624a24fb73ff9c983ad8555d3f6"
  },
  "kernelspec": {
   "display_name": "Python 3.8.2 ('multitask-bert')",
   "language": "python",
   "name": "python3"
  },
  "language_info": {
   "codemirror_mode": {
    "name": "ipython",
    "version": 3
   },
   "file_extension": ".py",
   "mimetype": "text/x-python",
   "name": "python",
   "nbconvert_exporter": "python",
   "pygments_lexer": "ipython3",
   "version": "3.8.2"
  },
  "orig_nbformat": 4
 },
 "nbformat": 4,
 "nbformat_minor": 2
}
